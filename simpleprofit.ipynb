{
 "cells": [
  {
   "cell_type": "markdown",
   "id": "05d9e588-1335-418f-bdaf-c763ec86b26f",
   "metadata": {},
   "source": [
    "**Import Library**"
   ]
  },
  {
   "cell_type": "code",
   "execution_count": 476,
   "id": "81d6a798-5931-48b8-86c8-44f4ff85f251",
   "metadata": {},
   "outputs": [],
   "source": [
    "import numpy as np\n",
    "import pandas as pd\n",
    "import matplotlib.pyplot as plt\n",
    "import seaborn as sns\n",
    "from sklearn.preprocessing import OneHotEncoder\n",
    "from sklearn.model_selection import train_test_split\n",
    "from sklearn.linear_model import LinearRegression\n",
    "from sklearn.metrics import r2_score"
   ]
  },
  {
   "cell_type": "code",
   "execution_count": 490,
   "id": "23b09c61-1e65-4779-b4f6-b6409f9d44d5",
   "metadata": {},
   "outputs": [],
   "source": [
    "df = pd.read_csv('C:/Users/abu_s/Desktop/storeprofit.csv')\n"
   ]
  },
  {
   "cell_type": "code",
   "execution_count": 569,
   "id": "faafd487-46da-4c2f-a92d-a6f3570ea3ac",
   "metadata": {},
   "outputs": [
    {
     "name": "stdout",
     "output_type": "stream",
     "text": [
      "<class 'pandas.core.frame.DataFrame'>\n",
      "RangeIndex: 200 entries, 0 to 199\n",
      "Data columns (total 6 columns):\n",
      " #   Column           Non-Null Count  Dtype  \n",
      "---  ------           --------------  -----  \n",
      " 0   Store's          200 non-null    int64  \n",
      " 1   Marketing Spend  200 non-null    float64\n",
      " 2   Administration   200 non-null    float64\n",
      " 3   Transport        200 non-null    float64\n",
      " 4   State            200 non-null    object \n",
      " 5   Profit           200 non-null    float64\n",
      "dtypes: float64(4), int64(1), object(1)\n",
      "memory usage: 9.5+ KB\n",
      "None\n"
     ]
    }
   ],
   "source": [
    "print(df.info())\n"
   ]
  },
  {
   "cell_type": "code",
   "execution_count": 571,
   "id": "238a2abd-e7d3-4383-b6f0-f5a91ba8f52f",
   "metadata": {},
   "outputs": [
    {
     "name": "stdout",
     "output_type": "stream",
     "text": [
      "           Store's  Marketing Spend  Administration     Transport  \\\n",
      "count   200.000000       200.000000      200.000000    200.000000   \n",
      "mean    655.000000     21645.673800    20000.630700  19600.001066   \n",
      "std     502.064582      7582.850455    11216.574379   7567.975681   \n",
      "min     101.000000     10071.960000     5652.610000   7071.960000   \n",
      "25%     150.750000     14657.110000    13059.187500  12893.575000   \n",
      "50%    1100.500000     22086.110000    20157.060000  20236.110000   \n",
      "75%    1150.250000     26253.860000    23902.030000  24306.065000   \n",
      "max    1200.000000     44069.950000   136897.800000  42429.950000   \n",
      "\n",
      "             Profit  \n",
      "count    200.000000  \n",
      "mean   25982.108800  \n",
      "std     7672.440128  \n",
      "min    12671.960000  \n",
      "25%    19230.132500  \n",
      "50%    26817.060000  \n",
      "75%    30659.377500  \n",
      "max    49169.950000  \n"
     ]
    }
   ],
   "source": [
    "print(df.describe())\n"
   ]
  },
  {
   "cell_type": "code",
   "execution_count": 493,
   "id": "95b329ea-cb4b-445c-86ee-1d7c95b0295f",
   "metadata": {},
   "outputs": [
    {
     "data": {
      "text/html": [
       "<div>\n",
       "<style scoped>\n",
       "    .dataframe tbody tr th:only-of-type {\n",
       "        vertical-align: middle;\n",
       "    }\n",
       "\n",
       "    .dataframe tbody tr th {\n",
       "        vertical-align: top;\n",
       "    }\n",
       "\n",
       "    .dataframe thead th {\n",
       "        text-align: right;\n",
       "    }\n",
       "</style>\n",
       "<table border=\"1\" class=\"dataframe\">\n",
       "  <thead>\n",
       "    <tr style=\"text-align: right;\">\n",
       "      <th></th>\n",
       "      <th>Store's</th>\n",
       "      <th>Marketing Spend</th>\n",
       "      <th>Administration</th>\n",
       "      <th>Transport</th>\n",
       "      <th>State</th>\n",
       "      <th>Profit</th>\n",
       "    </tr>\n",
       "  </thead>\n",
       "  <tbody>\n",
       "    <tr>\n",
       "      <th>0</th>\n",
       "      <td>101</td>\n",
       "      <td>11452.61</td>\n",
       "      <td>136897.80</td>\n",
       "      <td>9452.61</td>\n",
       "      <td>Michigan</td>\n",
       "      <td>14452.61</td>\n",
       "    </tr>\n",
       "    <tr>\n",
       "      <th>1</th>\n",
       "      <td>102</td>\n",
       "      <td>16259.70</td>\n",
       "      <td>15259.70</td>\n",
       "      <td>NaN</td>\n",
       "      <td>Michigan</td>\n",
       "      <td>19259.70</td>\n",
       "    </tr>\n",
       "    <tr>\n",
       "      <th>2</th>\n",
       "      <td>103</td>\n",
       "      <td>15344.51</td>\n",
       "      <td>14344.51</td>\n",
       "      <td>14144.51</td>\n",
       "      <td>Michigan</td>\n",
       "      <td>18344.51</td>\n",
       "    </tr>\n",
       "  </tbody>\n",
       "</table>\n",
       "</div>"
      ],
      "text/plain": [
       "   Store's  Marketing Spend  Administration  Transport     State    Profit\n",
       "0      101         11452.61       136897.80    9452.61  Michigan  14452.61\n",
       "1      102         16259.70        15259.70        NaN  Michigan  19259.70\n",
       "2      103         15344.51        14344.51   14144.51  Michigan  18344.51"
      ]
     },
     "execution_count": 493,
     "metadata": {},
     "output_type": "execute_result"
    }
   ],
   "source": [
    "df.head(3)\n"
   ]
  },
  {
   "cell_type": "code",
   "execution_count": null,
   "id": "80d97802-fffb-4ce0-a2fc-d93cd86636bd",
   "metadata": {},
   "outputs": [],
   "source": []
  },
  {
   "cell_type": "code",
   "execution_count": 495,
   "id": "ae09cc8f-8a1e-4f0b-bdf4-196c31ff5be8",
   "metadata": {},
   "outputs": [
    {
     "data": {
      "text/plain": [
       "(200, 6)"
      ]
     },
     "execution_count": 495,
     "metadata": {},
     "output_type": "execute_result"
    }
   ],
   "source": [
    "df.shape"
   ]
  },
  {
   "cell_type": "code",
   "execution_count": null,
   "id": "9963e096-4260-4896-97e8-ee4f11b5bb13",
   "metadata": {},
   "outputs": [],
   "source": []
  },
  {
   "cell_type": "code",
   "execution_count": 498,
   "id": "f6e8afd1-81ce-4196-8530-96e91cc40720",
   "metadata": {},
   "outputs": [
    {
     "data": {
      "text/plain": [
       "Store's            0\n",
       "Marketing Spend    0\n",
       "Administration     4\n",
       "Transport          3\n",
       "State              1\n",
       "Profit             0\n",
       "dtype: int64"
      ]
     },
     "execution_count": 498,
     "metadata": {},
     "output_type": "execute_result"
    }
   ],
   "source": [
    "# Find is there any null value\n",
    "df.isnull().sum()"
   ]
  },
  {
   "cell_type": "markdown",
   "id": "fc60ed36-c1d4-4bbf-b7d1-e4fd3091e0df",
   "metadata": {},
   "source": [
    "# **Fill Null Value With Mean, Median, Mood**"
   ]
  },
  {
   "cell_type": "code",
   "execution_count": 501,
   "id": "154e9619-3ed4-4fef-b593-5a02fd52fbfd",
   "metadata": {},
   "outputs": [],
   "source": [
    "mean_transport = df[\"Transport\"].mean()\n",
    "median_admi = df[\"Administration\"].median()  # if space is part of the column name\n",
    "mood_state = df[\"State\"].mode()[0]"
   ]
  },
  {
   "cell_type": "code",
   "execution_count": 503,
   "id": "6bd928a5-c969-4f12-922e-b9967bc42c42",
   "metadata": {},
   "outputs": [
    {
     "data": {
      "text/plain": [
       "19600.001065989847"
      ]
     },
     "execution_count": 503,
     "metadata": {},
     "output_type": "execute_result"
    }
   ],
   "source": [
    "mean_transport\n"
   ]
  },
  {
   "cell_type": "code",
   "execution_count": 505,
   "id": "8b6e1162-fb60-4c4c-9bd6-f7c9553a2c78",
   "metadata": {},
   "outputs": [
    {
     "data": {
      "text/plain": [
       "20157.06"
      ]
     },
     "execution_count": 505,
     "metadata": {},
     "output_type": "execute_result"
    }
   ],
   "source": [
    "median_admi"
   ]
  },
  {
   "cell_type": "code",
   "execution_count": 507,
   "id": "a1afc3d6-1a0e-46f0-802c-909143b81856",
   "metadata": {},
   "outputs": [
    {
     "data": {
      "text/plain": [
       "'Illinois'"
      ]
     },
     "execution_count": 507,
     "metadata": {},
     "output_type": "execute_result"
    }
   ],
   "source": [
    "mood_state"
   ]
  },
  {
   "cell_type": "code",
   "execution_count": 509,
   "id": "6f832955-5a28-410a-bf4e-d78fb6717bed",
   "metadata": {},
   "outputs": [],
   "source": [
    "df['Transport'] = df['Transport'].fillna(mean_transport) "
   ]
  },
  {
   "cell_type": "code",
   "execution_count": 511,
   "id": "e59d5275-bd65-4fd2-80c7-d51a03fe190a",
   "metadata": {},
   "outputs": [],
   "source": [
    "df['Administration'] = df['Administration'].fillna(median_admi) "
   ]
  },
  {
   "cell_type": "code",
   "execution_count": 513,
   "id": "79a75961-b0ef-4bd7-ba2f-81441ec94547",
   "metadata": {},
   "outputs": [],
   "source": [
    "df['State'] = df['State'].fillna(mood_state) "
   ]
  },
  {
   "cell_type": "code",
   "execution_count": 515,
   "id": "b520a238-98a3-4786-a19e-42a548c52ae1",
   "metadata": {},
   "outputs": [
    {
     "data": {
      "text/plain": [
       "Store's            0\n",
       "Marketing Spend    0\n",
       "Administration     0\n",
       "Transport          0\n",
       "State              0\n",
       "Profit             0\n",
       "dtype: int64"
      ]
     },
     "execution_count": 515,
     "metadata": {},
     "output_type": "execute_result"
    }
   ],
   "source": [
    "df.isnull().sum()"
   ]
  },
  {
   "cell_type": "markdown",
   "id": "4b0f4b51-86cb-47bb-8d59-12f16b7499de",
   "metadata": {},
   "source": [
    "# **Graph Use Matplotlib And Seaborn**"
   ]
  },
  {
   "cell_type": "code",
   "execution_count": 517,
   "id": "631f0ccc-7495-410e-94e5-88c96ea9139d",
   "metadata": {},
   "outputs": [
    {
     "data": {
      "image/png": "[encoded data removed]",
      "text/plain": [
       "<Figure size 500x300 with 1 Axes>"
      ]
     },
     "metadata": {},
     "output_type": "display_data"
    },
    {
     "data": {
      "image/png": "[encoded data removed]",
      "text/plain": [
       "<Figure size 500x300 with 1 Axes>"
      ]
     },
     "metadata": {},
     "output_type": "display_data"
    },
    {
     "data": {
      "image/png": "[encoded data removed]",
      "text/plain": [
       "<Figure size 500x300 with 1 Axes>"
      ]
     },
     "metadata": {},
     "output_type": "display_data"
    }
   ],
   "source": [
    "# Assuming df is your DataFrame and you want to plot 'x' vs 'y'\n",
    "x_columns = ['Marketing Spend', 'Administration', 'Transport']  # replace with your actual column names\n",
    "y = 'Profit'  # your y-axis column\n",
    "\n",
    "# Loop through each x column and plot a scatterplot\n",
    "for x in x_columns:\n",
    "    plt.figure(figsize=(5, 3))  # Create a new figure for each plot\n",
    "    sns.scatterplot(x=x, y=y, data=df)\n",
    "    plt.title(f'Scatter plot of {x} vs {y}')\n",
    "    plt.tight_layout()  # Adjust layout\n",
    "    plt.show()  # Show the plot for each x"
   ]
  },
  {
   "cell_type": "code",
   "execution_count": null,
   "id": "ab03ee20-9398-4b64-9637-309fec18ff05",
   "metadata": {},
   "outputs": [],
   "source": []
  },
  {
   "cell_type": "markdown",
   "id": "53736fe0-0e7e-4f5b-8649-19546e923dbb",
   "metadata": {},
   "source": [
    "# **Separtate X, Y**\n"
   ]
  },
  {
   "cell_type": "code",
   "execution_count": 520,
   "id": "0926bd63-798f-455f-bf26-5cba6d7b6a54",
   "metadata": {},
   "outputs": [],
   "source": [
    "x = df.drop(['Profit'], axis=True)\n"
   ]
  },
  {
   "cell_type": "code",
   "execution_count": 522,
   "id": "a15d624f-80d1-4d33-aea6-0202daf46b5f",
   "metadata": {},
   "outputs": [],
   "source": [
    "y = df['Profit']"
   ]
  },
  {
   "cell_type": "code",
   "execution_count": null,
   "id": "aac38b3d-8689-43d4-be03-535ac7ddbfd8",
   "metadata": {},
   "outputs": [],
   "source": []
  },
  {
   "cell_type": "markdown",
   "id": "d458883a-553c-426d-93f0-056c284f031b",
   "metadata": {},
   "source": [
    "# **Used One Hot Encoding**"
   ]
  },
  {
   "cell_type": "code",
   "execution_count": 526,
   "id": "129270ab-9c6c-4494-867d-29a9aaa21bea",
   "metadata": {},
   "outputs": [],
   "source": [
    "#state = pd.get_dummies(x['Area'],drop_first=True) # also we can use pandas get_dummies Library"
   ]
  },
  {
   "cell_type": "code",
   "execution_count": null,
   "id": "7bb367a9-325d-4073-9b33-3df66b572753",
   "metadata": {},
   "outputs": [],
   "source": []
  },
  {
   "cell_type": "code",
   "execution_count": 529,
   "id": "5393328a-9919-4d9a-b32d-694a58f7a928",
   "metadata": {},
   "outputs": [
    {
     "data": {
      "text/html": [
       "<div>\n",
       "<style scoped>\n",
       "    .dataframe tbody tr th:only-of-type {\n",
       "        vertical-align: middle;\n",
       "    }\n",
       "\n",
       "    .dataframe tbody tr th {\n",
       "        vertical-align: top;\n",
       "    }\n",
       "\n",
       "    .dataframe thead th {\n",
       "        text-align: right;\n",
       "    }\n",
       "</style>\n",
       "<table border=\"1\" class=\"dataframe\">\n",
       "  <thead>\n",
       "    <tr style=\"text-align: right;\">\n",
       "      <th></th>\n",
       "      <th>State_Illinois</th>\n",
       "      <th>State_Michigan</th>\n",
       "      <th>State_Ohio</th>\n",
       "      <th>State_indiana</th>\n",
       "    </tr>\n",
       "  </thead>\n",
       "  <tbody>\n",
       "    <tr>\n",
       "      <th>0</th>\n",
       "      <td>0.0</td>\n",
       "      <td>1.0</td>\n",
       "      <td>0.0</td>\n",
       "      <td>0.0</td>\n",
       "    </tr>\n",
       "    <tr>\n",
       "      <th>1</th>\n",
       "      <td>0.0</td>\n",
       "      <td>1.0</td>\n",
       "      <td>0.0</td>\n",
       "      <td>0.0</td>\n",
       "    </tr>\n",
       "    <tr>\n",
       "      <th>2</th>\n",
       "      <td>0.0</td>\n",
       "      <td>1.0</td>\n",
       "      <td>0.0</td>\n",
       "      <td>0.0</td>\n",
       "    </tr>\n",
       "  </tbody>\n",
       "</table>\n",
       "</div>"
      ],
      "text/plain": [
       "   State_Illinois  State_Michigan  State_Ohio   State_indiana \n",
       "0             0.0             1.0          0.0             0.0\n",
       "1             0.0             1.0          0.0             0.0\n",
       "2             0.0             1.0          0.0             0.0"
      ]
     },
     "execution_count": 529,
     "metadata": {},
     "output_type": "execute_result"
    }
   ],
   "source": [
    "# use one hot encode from sklearn.preprocessing\n",
    "state_OHE = OneHotEncoder(sparse_output=False)\n",
    "\n",
    "# Apply the encoder to the categorical column and fit-transform the data\n",
    "one_hot_encoded = state_OHE.fit_transform(x[['State']])\n",
    "\n",
    "# Convert the result into a DataFrame for easier viewing\n",
    "State_one_hot_encoded = pd.DataFrame(one_hot_encoded, columns=state_OHE.get_feature_names_out(['State']))\n",
    "\n",
    "State_one_hot_encoded.head(3)"
   ]
  },
  {
   "cell_type": "code",
   "execution_count": 531,
   "id": "60d68ab1-f290-479a-bff7-2301b2433455",
   "metadata": {},
   "outputs": [
    {
     "data": {
      "text/html": [
       "<div>\n",
       "<style scoped>\n",
       "    .dataframe tbody tr th:only-of-type {\n",
       "        vertical-align: middle;\n",
       "    }\n",
       "\n",
       "    .dataframe tbody tr th {\n",
       "        vertical-align: top;\n",
       "    }\n",
       "\n",
       "    .dataframe thead th {\n",
       "        text-align: right;\n",
       "    }\n",
       "</style>\n",
       "<table border=\"1\" class=\"dataframe\">\n",
       "  <thead>\n",
       "    <tr style=\"text-align: right;\">\n",
       "      <th></th>\n",
       "      <th>Store's</th>\n",
       "      <th>Marketing Spend</th>\n",
       "      <th>Administration</th>\n",
       "      <th>Transport</th>\n",
       "      <th>State</th>\n",
       "    </tr>\n",
       "  </thead>\n",
       "  <tbody>\n",
       "    <tr>\n",
       "      <th>0</th>\n",
       "      <td>101</td>\n",
       "      <td>11452.61</td>\n",
       "      <td>136897.80</td>\n",
       "      <td>9452.610000</td>\n",
       "      <td>Michigan</td>\n",
       "    </tr>\n",
       "    <tr>\n",
       "      <th>1</th>\n",
       "      <td>102</td>\n",
       "      <td>16259.70</td>\n",
       "      <td>15259.70</td>\n",
       "      <td>19600.001066</td>\n",
       "      <td>Michigan</td>\n",
       "    </tr>\n",
       "    <tr>\n",
       "      <th>2</th>\n",
       "      <td>103</td>\n",
       "      <td>15344.51</td>\n",
       "      <td>14344.51</td>\n",
       "      <td>14144.510000</td>\n",
       "      <td>Michigan</td>\n",
       "    </tr>\n",
       "    <tr>\n",
       "      <th>3</th>\n",
       "      <td>104</td>\n",
       "      <td>14437.41</td>\n",
       "      <td>13437.41</td>\n",
       "      <td>13237.410000</td>\n",
       "      <td>Michigan</td>\n",
       "    </tr>\n",
       "    <tr>\n",
       "      <th>4</th>\n",
       "      <td>105</td>\n",
       "      <td>14210.34</td>\n",
       "      <td>13210.34</td>\n",
       "      <td>13010.340000</td>\n",
       "      <td>Michigan</td>\n",
       "    </tr>\n",
       "  </tbody>\n",
       "</table>\n",
       "</div>"
      ],
      "text/plain": [
       "   Store's  Marketing Spend  Administration     Transport     State\n",
       "0      101         11452.61       136897.80   9452.610000  Michigan\n",
       "1      102         16259.70        15259.70  19600.001066  Michigan\n",
       "2      103         15344.51        14344.51  14144.510000  Michigan\n",
       "3      104         14437.41        13437.41  13237.410000  Michigan\n",
       "4      105         14210.34        13210.34  13010.340000  Michigan"
      ]
     },
     "execution_count": 531,
     "metadata": {},
     "output_type": "execute_result"
    }
   ],
   "source": [
    "x.head()"
   ]
  },
  {
   "cell_type": "code",
   "execution_count": 533,
   "id": "9a39037b-1d39-4450-8917-f9c04d0a5b51",
   "metadata": {},
   "outputs": [],
   "source": [
    "#concat both x, and encoded data inside in x\n",
    "x = pd.concat([x, State_one_hot_encoded],axis = 1)"
   ]
  },
  {
   "cell_type": "code",
   "execution_count": 535,
   "id": "6e981c9d-0730-4c7e-8923-1b60204c05c9",
   "metadata": {},
   "outputs": [
    {
     "data": {
      "text/html": [
       "<div>\n",
       "<style scoped>\n",
       "    .dataframe tbody tr th:only-of-type {\n",
       "        vertical-align: middle;\n",
       "    }\n",
       "\n",
       "    .dataframe tbody tr th {\n",
       "        vertical-align: top;\n",
       "    }\n",
       "\n",
       "    .dataframe thead th {\n",
       "        text-align: right;\n",
       "    }\n",
       "</style>\n",
       "<table border=\"1\" class=\"dataframe\">\n",
       "  <thead>\n",
       "    <tr style=\"text-align: right;\">\n",
       "      <th></th>\n",
       "      <th>Store's</th>\n",
       "      <th>Marketing Spend</th>\n",
       "      <th>Administration</th>\n",
       "      <th>Transport</th>\n",
       "      <th>State</th>\n",
       "      <th>State_Illinois</th>\n",
       "      <th>State_Michigan</th>\n",
       "      <th>State_Ohio</th>\n",
       "      <th>State_indiana</th>\n",
       "    </tr>\n",
       "  </thead>\n",
       "  <tbody>\n",
       "    <tr>\n",
       "      <th>0</th>\n",
       "      <td>101</td>\n",
       "      <td>11452.61</td>\n",
       "      <td>136897.80</td>\n",
       "      <td>9452.610000</td>\n",
       "      <td>Michigan</td>\n",
       "      <td>0.0</td>\n",
       "      <td>1.0</td>\n",
       "      <td>0.0</td>\n",
       "      <td>0.0</td>\n",
       "    </tr>\n",
       "    <tr>\n",
       "      <th>1</th>\n",
       "      <td>102</td>\n",
       "      <td>16259.70</td>\n",
       "      <td>15259.70</td>\n",
       "      <td>19600.001066</td>\n",
       "      <td>Michigan</td>\n",
       "      <td>0.0</td>\n",
       "      <td>1.0</td>\n",
       "      <td>0.0</td>\n",
       "      <td>0.0</td>\n",
       "    </tr>\n",
       "    <tr>\n",
       "      <th>2</th>\n",
       "      <td>103</td>\n",
       "      <td>15344.51</td>\n",
       "      <td>14344.51</td>\n",
       "      <td>14144.510000</td>\n",
       "      <td>Michigan</td>\n",
       "      <td>0.0</td>\n",
       "      <td>1.0</td>\n",
       "      <td>0.0</td>\n",
       "      <td>0.0</td>\n",
       "    </tr>\n",
       "    <tr>\n",
       "      <th>3</th>\n",
       "      <td>104</td>\n",
       "      <td>14437.41</td>\n",
       "      <td>13437.41</td>\n",
       "      <td>13237.410000</td>\n",
       "      <td>Michigan</td>\n",
       "      <td>0.0</td>\n",
       "      <td>1.0</td>\n",
       "      <td>0.0</td>\n",
       "      <td>0.0</td>\n",
       "    </tr>\n",
       "    <tr>\n",
       "      <th>4</th>\n",
       "      <td>105</td>\n",
       "      <td>14210.34</td>\n",
       "      <td>13210.34</td>\n",
       "      <td>13010.340000</td>\n",
       "      <td>Michigan</td>\n",
       "      <td>0.0</td>\n",
       "      <td>1.0</td>\n",
       "      <td>0.0</td>\n",
       "      <td>0.0</td>\n",
       "    </tr>\n",
       "  </tbody>\n",
       "</table>\n",
       "</div>"
      ],
      "text/plain": [
       "   Store's  Marketing Spend  Administration     Transport     State  \\\n",
       "0      101         11452.61       136897.80   9452.610000  Michigan   \n",
       "1      102         16259.70        15259.70  19600.001066  Michigan   \n",
       "2      103         15344.51        14344.51  14144.510000  Michigan   \n",
       "3      104         14437.41        13437.41  13237.410000  Michigan   \n",
       "4      105         14210.34        13210.34  13010.340000  Michigan   \n",
       "\n",
       "   State_Illinois  State_Michigan  State_Ohio   State_indiana   \n",
       "0             0.0             1.0          0.0             0.0  \n",
       "1             0.0             1.0          0.0             0.0  \n",
       "2             0.0             1.0          0.0             0.0  \n",
       "3             0.0             1.0          0.0             0.0  \n",
       "4             0.0             1.0          0.0             0.0  "
      ]
     },
     "execution_count": 535,
     "metadata": {},
     "output_type": "execute_result"
    }
   ],
   "source": [
    "x.head()\n"
   ]
  },
  {
   "cell_type": "code",
   "execution_count": 537,
   "id": "0a55ef8b-ddc2-4547-aee7-20a074adedaa",
   "metadata": {},
   "outputs": [],
   "source": [
    "# drop state collaum as we don't  have use it\n",
    "x = x.drop('State', axis=1)"
   ]
  },
  {
   "cell_type": "code",
   "execution_count": 539,
   "id": "d48fb45c-ffb4-4fa1-a686-23c5d617ae21",
   "metadata": {},
   "outputs": [
    {
     "data": {
      "text/html": [
       "<div>\n",
       "<style scoped>\n",
       "    .dataframe tbody tr th:only-of-type {\n",
       "        vertical-align: middle;\n",
       "    }\n",
       "\n",
       "    .dataframe tbody tr th {\n",
       "        vertical-align: top;\n",
       "    }\n",
       "\n",
       "    .dataframe thead th {\n",
       "        text-align: right;\n",
       "    }\n",
       "</style>\n",
       "<table border=\"1\" class=\"dataframe\">\n",
       "  <thead>\n",
       "    <tr style=\"text-align: right;\">\n",
       "      <th></th>\n",
       "      <th>Store's</th>\n",
       "      <th>Marketing Spend</th>\n",
       "      <th>Administration</th>\n",
       "      <th>Transport</th>\n",
       "      <th>State_Illinois</th>\n",
       "      <th>State_Michigan</th>\n",
       "      <th>State_Ohio</th>\n",
       "      <th>State_indiana</th>\n",
       "    </tr>\n",
       "  </thead>\n",
       "  <tbody>\n",
       "    <tr>\n",
       "      <th>0</th>\n",
       "      <td>101</td>\n",
       "      <td>11452.61</td>\n",
       "      <td>136897.80</td>\n",
       "      <td>9452.610000</td>\n",
       "      <td>0.0</td>\n",
       "      <td>1.0</td>\n",
       "      <td>0.0</td>\n",
       "      <td>0.0</td>\n",
       "    </tr>\n",
       "    <tr>\n",
       "      <th>1</th>\n",
       "      <td>102</td>\n",
       "      <td>16259.70</td>\n",
       "      <td>15259.70</td>\n",
       "      <td>19600.001066</td>\n",
       "      <td>0.0</td>\n",
       "      <td>1.0</td>\n",
       "      <td>0.0</td>\n",
       "      <td>0.0</td>\n",
       "    </tr>\n",
       "    <tr>\n",
       "      <th>2</th>\n",
       "      <td>103</td>\n",
       "      <td>15344.51</td>\n",
       "      <td>14344.51</td>\n",
       "      <td>14144.510000</td>\n",
       "      <td>0.0</td>\n",
       "      <td>1.0</td>\n",
       "      <td>0.0</td>\n",
       "      <td>0.0</td>\n",
       "    </tr>\n",
       "  </tbody>\n",
       "</table>\n",
       "</div>"
      ],
      "text/plain": [
       "   Store's  Marketing Spend  Administration     Transport  State_Illinois  \\\n",
       "0      101         11452.61       136897.80   9452.610000             0.0   \n",
       "1      102         16259.70        15259.70  19600.001066             0.0   \n",
       "2      103         15344.51        14344.51  14144.510000             0.0   \n",
       "\n",
       "   State_Michigan  State_Ohio   State_indiana   \n",
       "0             1.0          0.0             0.0  \n",
       "1             1.0          0.0             0.0  \n",
       "2             1.0          0.0             0.0  "
      ]
     },
     "execution_count": 539,
     "metadata": {},
     "output_type": "execute_result"
    }
   ],
   "source": [
    "x.head(3)"
   ]
  },
  {
   "cell_type": "code",
   "execution_count": null,
   "id": "02c5ea92-af82-442d-89ef-5d971126dadf",
   "metadata": {},
   "outputs": [],
   "source": []
  },
  {
   "cell_type": "markdown",
   "id": "5c60716e-a381-4db3-a828-7b7b06304571",
   "metadata": {},
   "source": [
    "# **Linear Regression**"
   ]
  },
  {
   "cell_type": "code",
   "execution_count": 543,
   "id": "42dd8380-5d4e-4849-98b2-102f25f3a86c",
   "metadata": {},
   "outputs": [],
   "source": [
    "# use 75% of data for train as small dataset \n",
    "xtrain, xtest, ytrain, ytest = train_test_split(x,y, test_size = 0.25, random_state = 42)"
   ]
  },
  {
   "cell_type": "code",
   "execution_count": null,
   "id": "0b1b1bad-3f3d-4992-9748-9c6abe69b2ec",
   "metadata": {},
   "outputs": [],
   "source": []
  },
  {
   "cell_type": "code",
   "execution_count": 546,
   "id": "0275cc4a-db91-40ba-9576-79141c058612",
   "metadata": {},
   "outputs": [],
   "source": [
    "regressor = LinearRegression()"
   ]
  },
  {
   "cell_type": "code",
   "execution_count": 548,
   "id": "02cb1bd0-00f3-498e-910a-2ee3600a0b76",
   "metadata": {},
   "outputs": [
    {
     "data": {
      "text/html": [
       "<style>#sk-container-id-5 {\n",
       "  /* Definition of color scheme common for light and dark mode */\n",
       "  --sklearn-color-text: black;\n",
       "  --sklearn-color-line: gray;\n",
       "  /* Definition of color scheme for unfitted estimators */\n",
       "  --sklearn-color-unfitted-level-0: #fff5e6;\n",
       "  --sklearn-color-unfitted-level-1: #f6e4d2;\n",
       "  --sklearn-color-unfitted-level-2: #ffe0b3;\n",
       "  --sklearn-color-unfitted-level-3: chocolate;\n",
       "  /* Definition of color scheme for fitted estimators */\n",
       "  --sklearn-color-fitted-level-0: #f0f8ff;\n",
       "  --sklearn-color-fitted-level-1: #d4ebff;\n",
       "  --sklearn-color-fitted-level-2: #b3dbfd;\n",
       "  --sklearn-color-fitted-level-3: cornflowerblue;\n",
       "\n",
       "  /* Specific color for light theme */\n",
       "  --sklearn-color-text-on-default-background: var(--sg-text-color, var(--theme-code-foreground, var(--jp-content-font-color1, black)));\n",
       "  --sklearn-color-background: var(--sg-background-color, var(--theme-background, var(--jp-layout-color0, white)));\n",
       "  --sklearn-color-border-box: var(--sg-text-color, var(--theme-code-foreground, var(--jp-content-font-color1, black)));\n",
       "  --sklearn-color-icon: #696969;\n",
       "\n",
       "  @media (prefers-color-scheme: dark) {\n",
       "    /* Redefinition of color scheme for dark theme */\n",
       "    --sklearn-color-text-on-default-background: var(--sg-text-color, var(--theme-code-foreground, var(--jp-content-font-color1, white)));\n",
       "    --sklearn-color-background: var(--sg-background-color, var(--theme-background, var(--jp-layout-color0, #111)));\n",
       "    --sklearn-color-border-box: var(--sg-text-color, var(--theme-code-foreground, var(--jp-content-font-color1, white)));\n",
       "    --sklearn-color-icon: #878787;\n",
       "  }\n",
       "}\n",
       "\n",
       "#sk-container-id-5 {\n",
       "  color: var(--sklearn-color-text);\n",
       "}\n",
       "\n",
       "#sk-container-id-5 pre {\n",
       "  padding: 0;\n",
       "}\n",
       "\n",
       "#sk-container-id-5 input.sk-hidden--visually {\n",
       "  border: 0;\n",
       "  clip: rect(1px 1px 1px 1px);\n",
       "  clip: rect(1px, 1px, 1px, 1px);\n",
       "  height: 1px;\n",
       "  margin: -1px;\n",
       "  overflow: hidden;\n",
       "  padding: 0;\n",
       "  position: absolute;\n",
       "  width: 1px;\n",
       "}\n",
       "\n",
       "#sk-container-id-5 div.sk-dashed-wrapped {\n",
       "  border: 1px dashed var(--sklearn-color-line);\n",
       "  margin: 0 0.4em 0.5em 0.4em;\n",
       "  box-sizing: border-box;\n",
       "  padding-bottom: 0.4em;\n",
       "  background-color: var(--sklearn-color-background);\n",
       "}\n",
       "\n",
       "#sk-container-id-5 div.sk-container {\n",
       "  /* jupyter's `normalize.less` sets `[hidden] { display: none; }`\n",
       "     but bootstrap.min.css set `[hidden] { display: none !important; }`\n",
       "     so we also need the `!important` here to be able to override the\n",
       "     default hidden behavior on the sphinx rendered scikit-learn.org.\n",
       "     See: https://github.com/scikit-learn/scikit-learn/issues/21755 */\n",
       "  display: inline-block !important;\n",
       "  position: relative;\n",
       "}\n",
       "\n",
       "#sk-container-id-5 div.sk-text-repr-fallback {\n",
       "  display: none;\n",
       "}\n",
       "\n",
       "div.sk-parallel-item,\n",
       "div.sk-serial,\n",
       "div.sk-item {\n",
       "  /* draw centered vertical line to link estimators */\n",
       "  background-image: linear-gradient(var(--sklearn-color-text-on-default-background), var(--sklearn-color-text-on-default-background));\n",
       "  background-size: 2px 100%;\n",
       "  background-repeat: no-repeat;\n",
       "  background-position: center center;\n",
       "}\n",
       "\n",
       "/* Parallel-specific style estimator block */\n",
       "\n",
       "#sk-container-id-5 div.sk-parallel-item::after {\n",
       "  content: \"\";\n",
       "  width: 100%;\n",
       "  border-bottom: 2px solid var(--sklearn-color-text-on-default-background);\n",
       "  flex-grow: 1;\n",
       "}\n",
       "\n",
       "#sk-container-id-5 div.sk-parallel {\n",
       "  display: flex;\n",
       "  align-items: stretch;\n",
       "  justify-content: center;\n",
       "  background-color: var(--sklearn-color-background);\n",
       "  position: relative;\n",
       "}\n",
       "\n",
       "#sk-container-id-5 div.sk-parallel-item {\n",
       "  display: flex;\n",
       "  flex-direction: column;\n",
       "}\n",
       "\n",
       "#sk-container-id-5 div.sk-parallel-item:first-child::after {\n",
       "  align-self: flex-end;\n",
       "  width: 50%;\n",
       "}\n",
       "\n",
       "#sk-container-id-5 div.sk-parallel-item:last-child::after {\n",
       "  align-self: flex-start;\n",
       "  width: 50%;\n",
       "}\n",
       "\n",
       "#sk-container-id-5 div.sk-parallel-item:only-child::after {\n",
       "  width: 0;\n",
       "}\n",
       "\n",
       "/* Serial-specific style estimator block */\n",
       "\n",
       "#sk-container-id-5 div.sk-serial {\n",
       "  display: flex;\n",
       "  flex-direction: column;\n",
       "  align-items: center;\n",
       "  background-color: var(--sklearn-color-background);\n",
       "  padding-right: 1em;\n",
       "  padding-left: 1em;\n",
       "}\n",
       "\n",
       "\n",
       "/* Toggleable style: style used for estimator/Pipeline/ColumnTransformer box that is\n",
       "clickable and can be expanded/collapsed.\n",
       "- Pipeline and ColumnTransformer use this feature and define the default style\n",
       "- Estimators will overwrite some part of the style using the `sk-estimator` class\n",
       "*/\n",
       "\n",
       "/* Pipeline and ColumnTransformer style (default) */\n",
       "\n",
       "#sk-container-id-5 div.sk-toggleable {\n",
       "  /* Default theme specific background. It is overwritten whether we have a\n",
       "  specific estimator or a Pipeline/ColumnTransformer */\n",
       "  background-color: var(--sklearn-color-background);\n",
       "}\n",
       "\n",
       "/* Toggleable label */\n",
       "#sk-container-id-5 label.sk-toggleable__label {\n",
       "  cursor: pointer;\n",
       "  display: block;\n",
       "  width: 100%;\n",
       "  margin-bottom: 0;\n",
       "  padding: 0.5em;\n",
       "  box-sizing: border-box;\n",
       "  text-align: center;\n",
       "}\n",
       "\n",
       "#sk-container-id-5 label.sk-toggleable__label-arrow:before {\n",
       "  /* Arrow on the left of the label */\n",
       "  content: \"▸\";\n",
       "  float: left;\n",
       "  margin-right: 0.25em;\n",
       "  color: var(--sklearn-color-icon);\n",
       "}\n",
       "\n",
       "#sk-container-id-5 label.sk-toggleable__label-arrow:hover:before {\n",
       "  color: var(--sklearn-color-text);\n",
       "}\n",
       "\n",
       "/* Toggleable content - dropdown */\n",
       "\n",
       "#sk-container-id-5 div.sk-toggleable__content {\n",
       "  max-height: 0;\n",
       "  max-width: 0;\n",
       "  overflow: hidden;\n",
       "  text-align: left;\n",
       "  /* unfitted */\n",
       "  background-color: var(--sklearn-color-unfitted-level-0);\n",
       "}\n",
       "\n",
       "#sk-container-id-5 div.sk-toggleable__content.fitted {\n",
       "  /* fitted */\n",
       "  background-color: var(--sklearn-color-fitted-level-0);\n",
       "}\n",
       "\n",
       "#sk-container-id-5 div.sk-toggleable__content pre {\n",
       "  margin: 0.2em;\n",
       "  border-radius: 0.25em;\n",
       "  color: var(--sklearn-color-text);\n",
       "  /* unfitted */\n",
       "  background-color: var(--sklearn-color-unfitted-level-0);\n",
       "}\n",
       "\n",
       "#sk-container-id-5 div.sk-toggleable__content.fitted pre {\n",
       "  /* unfitted */\n",
       "  background-color: var(--sklearn-color-fitted-level-0);\n",
       "}\n",
       "\n",
       "#sk-container-id-5 input.sk-toggleable__control:checked~div.sk-toggleable__content {\n",
       "  /* Expand drop-down */\n",
       "  max-height: 200px;\n",
       "  max-width: 100%;\n",
       "  overflow: auto;\n",
       "}\n",
       "\n",
       "#sk-container-id-5 input.sk-toggleable__control:checked~label.sk-toggleable__label-arrow:before {\n",
       "  content: \"▾\";\n",
       "}\n",
       "\n",
       "/* Pipeline/ColumnTransformer-specific style */\n",
       "\n",
       "#sk-container-id-5 div.sk-label input.sk-toggleable__control:checked~label.sk-toggleable__label {\n",
       "  color: var(--sklearn-color-text);\n",
       "  background-color: var(--sklearn-color-unfitted-level-2);\n",
       "}\n",
       "\n",
       "#sk-container-id-5 div.sk-label.fitted input.sk-toggleable__control:checked~label.sk-toggleable__label {\n",
       "  background-color: var(--sklearn-color-fitted-level-2);\n",
       "}\n",
       "\n",
       "/* Estimator-specific style */\n",
       "\n",
       "/* Colorize estimator box */\n",
       "#sk-container-id-5 div.sk-estimator input.sk-toggleable__control:checked~label.sk-toggleable__label {\n",
       "  /* unfitted */\n",
       "  background-color: var(--sklearn-color-unfitted-level-2);\n",
       "}\n",
       "\n",
       "#sk-container-id-5 div.sk-estimator.fitted input.sk-toggleable__control:checked~label.sk-toggleable__label {\n",
       "  /* fitted */\n",
       "  background-color: var(--sklearn-color-fitted-level-2);\n",
       "}\n",
       "\n",
       "#sk-container-id-5 div.sk-label label.sk-toggleable__label,\n",
       "#sk-container-id-5 div.sk-label label {\n",
       "  /* The background is the default theme color */\n",
       "  color: var(--sklearn-color-text-on-default-background);\n",
       "}\n",
       "\n",
       "/* On hover, darken the color of the background */\n",
       "#sk-container-id-5 div.sk-label:hover label.sk-toggleable__label {\n",
       "  color: var(--sklearn-color-text);\n",
       "  background-color: var(--sklearn-color-unfitted-level-2);\n",
       "}\n",
       "\n",
       "/* Label box, darken color on hover, fitted */\n",
       "#sk-container-id-5 div.sk-label.fitted:hover label.sk-toggleable__label.fitted {\n",
       "  color: var(--sklearn-color-text);\n",
       "  background-color: var(--sklearn-color-fitted-level-2);\n",
       "}\n",
       "\n",
       "/* Estimator label */\n",
       "\n",
       "#sk-container-id-5 div.sk-label label {\n",
       "  font-family: monospace;\n",
       "  font-weight: bold;\n",
       "  display: inline-block;\n",
       "  line-height: 1.2em;\n",
       "}\n",
       "\n",
       "#sk-container-id-5 div.sk-label-container {\n",
       "  text-align: center;\n",
       "}\n",
       "\n",
       "/* Estimator-specific */\n",
       "#sk-container-id-5 div.sk-estimator {\n",
       "  font-family: monospace;\n",
       "  border: 1px dotted var(--sklearn-color-border-box);\n",
       "  border-radius: 0.25em;\n",
       "  box-sizing: border-box;\n",
       "  margin-bottom: 0.5em;\n",
       "  /* unfitted */\n",
       "  background-color: var(--sklearn-color-unfitted-level-0);\n",
       "}\n",
       "\n",
       "#sk-container-id-5 div.sk-estimator.fitted {\n",
       "  /* fitted */\n",
       "  background-color: var(--sklearn-color-fitted-level-0);\n",
       "}\n",
       "\n",
       "/* on hover */\n",
       "#sk-container-id-5 div.sk-estimator:hover {\n",
       "  /* unfitted */\n",
       "  background-color: var(--sklearn-color-unfitted-level-2);\n",
       "}\n",
       "\n",
       "#sk-container-id-5 div.sk-estimator.fitted:hover {\n",
       "  /* fitted */\n",
       "  background-color: var(--sklearn-color-fitted-level-2);\n",
       "}\n",
       "\n",
       "/* Specification for estimator info (e.g. \"i\" and \"?\") */\n",
       "\n",
       "/* Common style for \"i\" and \"?\" */\n",
       "\n",
       ".sk-estimator-doc-link,\n",
       "a:link.sk-estimator-doc-link,\n",
       "a:visited.sk-estimator-doc-link {\n",
       "  float: right;\n",
       "  font-size: smaller;\n",
       "  line-height: 1em;\n",
       "  font-family: monospace;\n",
       "  background-color: var(--sklearn-color-background);\n",
       "  border-radius: 1em;\n",
       "  height: 1em;\n",
       "  width: 1em;\n",
       "  text-decoration: none !important;\n",
       "  margin-left: 1ex;\n",
       "  /* unfitted */\n",
       "  border: var(--sklearn-color-unfitted-level-1) 1pt solid;\n",
       "  color: var(--sklearn-color-unfitted-level-1);\n",
       "}\n",
       "\n",
       ".sk-estimator-doc-link.fitted,\n",
       "a:link.sk-estimator-doc-link.fitted,\n",
       "a:visited.sk-estimator-doc-link.fitted {\n",
       "  /* fitted */\n",
       "  border: var(--sklearn-color-fitted-level-1) 1pt solid;\n",
       "  color: var(--sklearn-color-fitted-level-1);\n",
       "}\n",
       "\n",
       "/* On hover */\n",
       "div.sk-estimator:hover .sk-estimator-doc-link:hover,\n",
       ".sk-estimator-doc-link:hover,\n",
       "div.sk-label-container:hover .sk-estimator-doc-link:hover,\n",
       ".sk-estimator-doc-link:hover {\n",
       "  /* unfitted */\n",
       "  background-color: var(--sklearn-color-unfitted-level-3);\n",
       "  color: var(--sklearn-color-background);\n",
       "  text-decoration: none;\n",
       "}\n",
       "\n",
       "div.sk-estimator.fitted:hover .sk-estimator-doc-link.fitted:hover,\n",
       ".sk-estimator-doc-link.fitted:hover,\n",
       "div.sk-label-container:hover .sk-estimator-doc-link.fitted:hover,\n",
       ".sk-estimator-doc-link.fitted:hover {\n",
       "  /* fitted */\n",
       "  background-color: var(--sklearn-color-fitted-level-3);\n",
       "  color: var(--sklearn-color-background);\n",
       "  text-decoration: none;\n",
       "}\n",
       "\n",
       "/* Span, style for the box shown on hovering the info icon */\n",
       ".sk-estimator-doc-link span {\n",
       "  display: none;\n",
       "  z-index: 9999;\n",
       "  position: relative;\n",
       "  font-weight: normal;\n",
       "  right: .2ex;\n",
       "  padding: .5ex;\n",
       "  margin: .5ex;\n",
       "  width: min-content;\n",
       "  min-width: 20ex;\n",
       "  max-width: 50ex;\n",
       "  color: var(--sklearn-color-text);\n",
       "  box-shadow: 2pt 2pt 4pt #999;\n",
       "  /* unfitted */\n",
       "  background: var(--sklearn-color-unfitted-level-0);\n",
       "  border: .5pt solid var(--sklearn-color-unfitted-level-3);\n",
       "}\n",
       "\n",
       ".sk-estimator-doc-link.fitted span {\n",
       "  /* fitted */\n",
       "  background: var(--sklearn-color-fitted-level-0);\n",
       "  border: var(--sklearn-color-fitted-level-3);\n",
       "}\n",
       "\n",
       ".sk-estimator-doc-link:hover span {\n",
       "  display: block;\n",
       "}\n",
       "\n",
       "/* \"?\"-specific style due to the `<a>` HTML tag */\n",
       "\n",
       "#sk-container-id-5 a.estimator_doc_link {\n",
       "  float: right;\n",
       "  font-size: 1rem;\n",
       "  line-height: 1em;\n",
       "  font-family: monospace;\n",
       "  background-color: var(--sklearn-color-background);\n",
       "  border-radius: 1rem;\n",
       "  height: 1rem;\n",
       "  width: 1rem;\n",
       "  text-decoration: none;\n",
       "  /* unfitted */\n",
       "  color: var(--sklearn-color-unfitted-level-1);\n",
       "  border: var(--sklearn-color-unfitted-level-1) 1pt solid;\n",
       "}\n",
       "\n",
       "#sk-container-id-5 a.estimator_doc_link.fitted {\n",
       "  /* fitted */\n",
       "  border: var(--sklearn-color-fitted-level-1) 1pt solid;\n",
       "  color: var(--sklearn-color-fitted-level-1);\n",
       "}\n",
       "\n",
       "/* On hover */\n",
       "#sk-container-id-5 a.estimator_doc_link:hover {\n",
       "  /* unfitted */\n",
       "  background-color: var(--sklearn-color-unfitted-level-3);\n",
       "  color: var(--sklearn-color-background);\n",
       "  text-decoration: none;\n",
       "}\n",
       "\n",
       "#sk-container-id-5 a.estimator_doc_link.fitted:hover {\n",
       "  /* fitted */\n",
       "  background-color: var(--sklearn-color-fitted-level-3);\n",
       "}\n",
       "</style><div id=\"sk-container-id-5\" class=\"sk-top-container\"><div class=\"sk-text-repr-fallback\"><pre>LinearRegression()</pre><b>In a Jupyter environment, please rerun this cell to show the HTML representation or trust the notebook. <br />On GitHub, the HTML representation is unable to render, please try loading this page with nbviewer.org.</b></div><div class=\"sk-container\" hidden><div class=\"sk-item\"><div class=\"sk-estimator fitted sk-toggleable\"><input class=\"sk-toggleable__control sk-hidden--visually\" id=\"sk-estimator-id-5\" type=\"checkbox\" checked><label for=\"sk-estimator-id-5\" class=\"sk-toggleable__label fitted sk-toggleable__label-arrow fitted\">&nbsp;&nbsp;LinearRegression<a class=\"sk-estimator-doc-link fitted\" rel=\"noreferrer\" target=\"_blank\" href=\"https://scikit-learn.org/1.4/modules/generated/sklearn.linear_model.LinearRegression.html\">?<span>Documentation for LinearRegression</span></a><span class=\"sk-estimator-doc-link fitted\">i<span>Fitted</span></span></label><div class=\"sk-toggleable__content fitted\"><pre>LinearRegression()</pre></div> </div></div></div></div>"
      ],
      "text/plain": [
       "LinearRegression()"
      ]
     },
     "execution_count": 548,
     "metadata": {},
     "output_type": "execute_result"
    }
   ],
   "source": [
    "regressor.fit(xtrain, ytrain)"
   ]
  },
  {
   "cell_type": "code",
   "execution_count": 550,
   "id": "7187986f-77d1-4a7a-aafa-bcd002b43554",
   "metadata": {},
   "outputs": [
    {
     "data": {
      "text/html": [
       "<div>\n",
       "<style scoped>\n",
       "    .dataframe tbody tr th:only-of-type {\n",
       "        vertical-align: middle;\n",
       "    }\n",
       "\n",
       "    .dataframe tbody tr th {\n",
       "        vertical-align: top;\n",
       "    }\n",
       "\n",
       "    .dataframe thead th {\n",
       "        text-align: right;\n",
       "    }\n",
       "</style>\n",
       "<table border=\"1\" class=\"dataframe\">\n",
       "  <thead>\n",
       "    <tr style=\"text-align: right;\">\n",
       "      <th></th>\n",
       "      <th>Store's</th>\n",
       "      <th>Marketing Spend</th>\n",
       "      <th>Administration</th>\n",
       "      <th>Transport</th>\n",
       "      <th>State_Illinois</th>\n",
       "      <th>State_Michigan</th>\n",
       "      <th>State_Ohio</th>\n",
       "      <th>State_indiana</th>\n",
       "    </tr>\n",
       "  </thead>\n",
       "  <tbody>\n",
       "    <tr>\n",
       "      <th>19</th>\n",
       "      <td>120</td>\n",
       "      <td>26419.70</td>\n",
       "      <td>23859.70</td>\n",
       "      <td>24619.70</td>\n",
       "      <td>0.0</td>\n",
       "      <td>0.0</td>\n",
       "      <td>1.0</td>\n",
       "      <td>0.0</td>\n",
       "    </tr>\n",
       "    <tr>\n",
       "      <th>143</th>\n",
       "      <td>1144</td>\n",
       "      <td>15505.73</td>\n",
       "      <td>13505.73</td>\n",
       "      <td>12505.73</td>\n",
       "      <td>0.0</td>\n",
       "      <td>0.0</td>\n",
       "      <td>0.0</td>\n",
       "      <td>1.0</td>\n",
       "    </tr>\n",
       "    <tr>\n",
       "      <th>86</th>\n",
       "      <td>187</td>\n",
       "      <td>28663.76</td>\n",
       "      <td>25763.76</td>\n",
       "      <td>25663.76</td>\n",
       "      <td>1.0</td>\n",
       "      <td>0.0</td>\n",
       "      <td>0.0</td>\n",
       "      <td>0.0</td>\n",
       "    </tr>\n",
       "  </tbody>\n",
       "</table>\n",
       "</div>"
      ],
      "text/plain": [
       "     Store's  Marketing Spend  Administration  Transport  State_Illinois  \\\n",
       "19       120         26419.70        23859.70   24619.70             0.0   \n",
       "143     1144         15505.73        13505.73   12505.73             0.0   \n",
       "86       187         28663.76        25763.76   25663.76             1.0   \n",
       "\n",
       "     State_Michigan  State_Ohio   State_indiana   \n",
       "19              0.0          1.0             0.0  \n",
       "143             0.0          0.0             1.0  \n",
       "86              0.0          0.0             0.0  "
      ]
     },
     "execution_count": 550,
     "metadata": {},
     "output_type": "execute_result"
    }
   ],
   "source": [
    "#this time show the tail \n",
    "xtest.tail(3)"
   ]
  },
  {
   "cell_type": "code",
   "execution_count": 552,
   "id": "16782914-ca32-4c99-b63a-aae1a0edded9",
   "metadata": {},
   "outputs": [],
   "source": [
    "pred = regressor.predict(xtest)"
   ]
  },
  {
   "cell_type": "code",
   "execution_count": 554,
   "id": "2c99af5d-86cf-456d-93ce-35769738fdfa",
   "metadata": {},
   "outputs": [],
   "source": [
    "pred_profit =pd.DataFrame(pred )\n"
   ]
  },
  {
   "cell_type": "code",
   "execution_count": null,
   "id": "350c1902-5145-43a4-b73d-b2f6f4057632",
   "metadata": {},
   "outputs": [],
   "source": []
  },
  {
   "cell_type": "code",
   "execution_count": 557,
   "id": "993f26fe-1f15-4df1-ac00-5750996a561c",
   "metadata": {},
   "outputs": [
    {
     "data": {
      "text/plain": [
       "0.9847442350282432"
      ]
     },
     "execution_count": 557,
     "metadata": {},
     "output_type": "execute_result"
    }
   ],
   "source": [
    "regressor.score(xtest,ytest)"
   ]
  },
  {
   "cell_type": "markdown",
   "id": "b8a121aa-5c14-46aa-9915-ec0b06b9db49",
   "metadata": {},
   "source": [
    "# **R- Squared Value**"
   ]
  },
  {
   "cell_type": "code",
   "execution_count": 560,
   "id": "73374379-12b5-4200-85c7-6dbae182191f",
   "metadata": {},
   "outputs": [],
   "source": [
    "scoure=r2_score(ytest,pred)"
   ]
  },
  {
   "cell_type": "code",
   "execution_count": 562,
   "id": "a1a80abd-e32a-4ad4-a2e1-c5fb6beb72b3",
   "metadata": {},
   "outputs": [
    {
     "data": {
      "text/plain": [
       "0.9847442350282432"
      ]
     },
     "execution_count": 562,
     "metadata": {},
     "output_type": "execute_result"
    }
   ],
   "source": [
    "scoure"
   ]
  },
  {
   "cell_type": "markdown",
   "id": "89eb583d-bd39-4df1-ad54-a08a3b63186a",
   "metadata": {},
   "source": [
    "# **Graph Use Matplotlib And Seaborn**"
   ]
  },
  {
   "cell_type": "code",
   "execution_count": 565,
   "id": "d0c85f35-ee85-490d-bd72-0b8223a78cec",
   "metadata": {},
   "outputs": [
    {
     "data": {
      "image/png": "[encoded data removed]",
      "text/plain": [
       "<Figure size 500x300 with 1 Axes>"
      ]
     },
     "metadata": {},
     "output_type": "display_data"
    },
    {
     "data": {
      "image/png": "[encoded data removed]",
      "text/plain": [
       "<Figure size 500x300 with 1 Axes>"
      ]
     },
     "metadata": {},
     "output_type": "display_data"
    },
    {
     "data": {
      "image/png": "[encoded data removed]",
      "text/plain": [
       "<Figure size 500x300 with 1 Axes>"
      ]
     },
     "metadata": {},
     "output_type": "display_data"
    }
   ],
   "source": [
    "for x in x_columns:\n",
    "    plt.figure(figsize=(5, 3))  # Create a new figure for each plot\n",
    "    y = 'Profit'  # Your y-axis column\n",
    "    sns.regplot(x=x, y= y, data=df, scatter_kws={'alpha':0.5}, line_kws={'color':'red'})  # Add a regression line\n",
    "    plt.title(f'Scatter plot of {x} vs {y} with Prediction Line')\n",
    "    plt.tight_layout()  # Adjust layout\n",
    "    plt.show()  # Show the plot for each x"
   ]
  },
  {
   "cell_type": "code",
   "execution_count": null,
   "id": "d1b20480-dfad-4115-9a48-db4d38b2713d",
   "metadata": {},
   "outputs": [],
   "source": []
  },
  {
   "cell_type": "code",
   "execution_count": null,
   "id": "39971184-ebc7-4787-8660-5787bd742e5e",
   "metadata": {},
   "outputs": [],
   "source": []
  },
  {
   "cell_type": "code",
   "execution_count": null,
   "id": "f31260a9-58d9-423d-9399-8fba5d791acb",
   "metadata": {},
   "outputs": [],
   "source": []
  },
  {
   "cell_type": "code",
   "execution_count": null,
   "id": "ba8653f5-19c6-4016-8d64-ea3d60862351",
   "metadata": {},
   "outputs": [],
   "source": []
  }
 ],
 "metadata": {
  "kernelspec": {
   "display_name": "Python 3 (ipykernel)",
   "language": "python",
   "name": "python3"
  },
  "language_info": {
   "codemirror_mode": {
    "name": "ipython",
    "version": 3
   },
   "file_extension": ".py",
   "mimetype": "text/x-python",
   "name": "python",
   "nbconvert_exporter": "python",
   "pygments_lexer": "ipython3",
   "version": "3.12.4"
  }
 },
 "nbformat": 4,
 "nbformat_minor": 5
}
